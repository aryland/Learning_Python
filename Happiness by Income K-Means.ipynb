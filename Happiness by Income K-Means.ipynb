{
 "cells": [
  {
   "cell_type": "code",
   "execution_count": 1,
   "metadata": {},
   "outputs": [
    {
     "data": {
      "text/plain": [
       "'C:\\\\Users\\\\Austin'"
      ]
     },
     "execution_count": 1,
     "metadata": {},
     "output_type": "execute_result"
    }
   ],
   "source": [
    "pwd"
   ]
  },
  {
   "cell_type": "code",
   "execution_count": 3,
   "metadata": {},
   "outputs": [
    {
     "name": "stdout",
     "output_type": "stream",
     "text": [
      "          country  adjusted_satisfaction  avg_satisfaction  std_satisfaction  \\\n",
      "0         Armenia                     37               4.9              2.42   \n",
      "1          Angola                     26               4.3              3.19   \n",
      "2       Argentina                     60               7.1              1.91   \n",
      "3         Austria                     59               7.2              2.11   \n",
      "4       Australia                     65               7.6              1.80   \n",
      "..            ...                    ...               ...               ...   \n",
      "106       Uruguay                     58               7.0              2.13   \n",
      "107       Vietnam                     53               6.1              1.77   \n",
      "108  South Africa                     49               6.3              2.47   \n",
      "109        Zambia                     37               5.0              2.61   \n",
      "110      Zimbabwe                     33               4.1              2.16   \n",
      "\n",
      "     avg_income  median_income  income_inequality  \\\n",
      "0       2096.76    1731.506667          31.445556   \n",
      "1       1448.88    1044.240000          42.720000   \n",
      "2       7101.12    5109.400000          45.475556   \n",
      "3      19457.04   16879.620000          30.296250   \n",
      "4      19917.00   15846.060000          35.285000   \n",
      "..          ...            ...                ...   \n",
      "106     7544.40    5269.226667          45.014444   \n",
      "107     2231.40    1643.580000          39.242500   \n",
      "108     3889.32    1506.400000          63.726667   \n",
      "109      956.76     510.060000          55.120000   \n",
      "110     1768.56    1230.600000          43.150000   \n",
      "\n",
      "                            region  happyScore      GDP     country.1  \n",
      "0     'Central and Eastern Europe'       4.350  0.76821       Armenia  \n",
      "1             'Sub-Saharan Africa'       4.033  0.75778        Angola  \n",
      "2    'Latin America and Caribbean'       6.574  1.05351     Argentina  \n",
      "3                 'Western Europe'       7.200  1.33723       Austria  \n",
      "4      'Australia and New Zealand'       7.284  1.33358     Australia  \n",
      "..                             ...         ...      ...           ...  \n",
      "106  'Latin America and Caribbean'       6.485  1.06166       Uruguay  \n",
      "107            'Southeastern Asia'       5.360  0.63216       Vietnam  \n",
      "108           'Sub-Saharan Africa'       4.642  0.92049  South Africa  \n",
      "109           'Sub-Saharan Africa'       5.129  0.47038        Zambia  \n",
      "110           'Sub-Saharan Africa'       4.610  0.27100      Zimbabwe  \n",
      "\n",
      "[111 rows x 11 columns]\n"
     ]
    }
   ],
   "source": [
    "import pandas as pd\n",
    "\n",
    "data = pd.read_csv('happiness by income.csv')\n",
    "\n",
    "print(data)\n"
   ]
  },
  {
   "cell_type": "code",
   "execution_count": 4,
   "metadata": {
    "scrolled": true
   },
   "outputs": [
    {
     "name": "stdout",
     "output_type": "stream",
     "text": [
      "0      4.350\n",
      "1      4.033\n",
      "2      6.574\n",
      "3      7.200\n",
      "4      7.284\n",
      "       ...  \n",
      "106    6.485\n",
      "107    5.360\n",
      "108    4.642\n",
      "109    5.129\n",
      "110    4.610\n",
      "Name: happyScore, Length: 111, dtype: float64\n"
     ]
    }
   ],
   "source": [
    "import pandas as pd\n",
    "\n",
    "data = pd.read_csv('happiness by income.csv')\n",
    "\n",
    "happy = data['happyScore']\n",
    "income = data['avg_income']\n",
    "\n",
    "print(happy)"
   ]
  },
  {
   "cell_type": "code",
   "execution_count": 8,
   "metadata": {},
   "outputs": [
    {
     "data": {
      "text/plain": [
       "572.88"
      ]
     },
     "execution_count": 8,
     "metadata": {},
     "output_type": "execute_result"
    }
   ],
   "source": [
    "happy = data['happyScore']\n",
    "income = data['avg_income']\n",
    "\n",
    "income.min()"
   ]
  },
  {
   "cell_type": "code",
   "execution_count": 10,
   "metadata": {},
   "outputs": [
    {
     "data": {
      "text/plain": [
       "<matplotlib.collections.PathCollection at 0x1cfe7926848>"
      ]
     },
     "execution_count": 10,
     "metadata": {},
     "output_type": "execute_result"
    },
    {
     "data": {
      "image/png": "[encoded data removed]",
      "text/plain": [
       "<Figure size 432x288 with 1 Axes>"
      ]
     },
     "metadata": {
      "needs_background": "light"
     },
     "output_type": "display_data"
    }
   ],
   "source": [
    "import matplotlib.pyplot as plt\n",
    "\n",
    "plt.scatter(income, happy)"
   ]
  },
  {
   "cell_type": "code",
   "execution_count": 11,
   "metadata": {},
   "outputs": [
    {
     "data": {
      "text/plain": [
       "<matplotlib.collections.PathCollection at 0x1cfe7993e08>"
      ]
     },
     "execution_count": 11,
     "metadata": {},
     "output_type": "execute_result"
    },
    {
     "data": {
      "image/png": "[encoded data removed]",
      "text/plain": [
       "<Figure size 432x288 with 1 Axes>"
      ]
     },
     "metadata": {
      "needs_background": "light"
     },
     "output_type": "display_data"
    }
   ],
   "source": [
    "import matplotlib.pyplot as plt\n",
    "\n",
    "plt.xlabel('income')\n",
    "plt.ylabel('happy')\n",
    "plt.scatter(income, happy)"
   ]
  },
  {
   "cell_type": "code",
   "execution_count": 13,
   "metadata": {},
   "outputs": [],
   "source": [
    "import pandas as pd\n",
    "\n",
    "data = pd.read_csv('happiness by income.csv')"
   ]
  },
  {
   "cell_type": "code",
   "execution_count": 14,
   "metadata": {},
   "outputs": [
    {
     "data": {
      "text/html": [
       "<div>\n",
       "<style scoped>\n",
       "    .dataframe tbody tr th:only-of-type {\n",
       "        vertical-align: middle;\n",
       "    }\n",
       "\n",
       "    .dataframe tbody tr th {\n",
       "        vertical-align: top;\n",
       "    }\n",
       "\n",
       "    .dataframe thead th {\n",
       "        text-align: right;\n",
       "    }\n",
       "</style>\n",
       "<table border=\"1\" class=\"dataframe\">\n",
       "  <thead>\n",
       "    <tr style=\"text-align: right;\">\n",
       "      <th></th>\n",
       "      <th>country</th>\n",
       "      <th>adjusted_satisfaction</th>\n",
       "      <th>avg_satisfaction</th>\n",
       "      <th>std_satisfaction</th>\n",
       "      <th>avg_income</th>\n",
       "      <th>median_income</th>\n",
       "      <th>income_inequality</th>\n",
       "      <th>region</th>\n",
       "      <th>happyScore</th>\n",
       "      <th>GDP</th>\n",
       "      <th>country.1</th>\n",
       "    </tr>\n",
       "  </thead>\n",
       "  <tbody>\n",
       "    <tr>\n",
       "      <th>0</th>\n",
       "      <td>Armenia</td>\n",
       "      <td>37</td>\n",
       "      <td>4.9</td>\n",
       "      <td>2.42</td>\n",
       "      <td>2096.76</td>\n",
       "      <td>1731.506667</td>\n",
       "      <td>31.445556</td>\n",
       "      <td>'Central and Eastern Europe'</td>\n",
       "      <td>4.350</td>\n",
       "      <td>0.76821</td>\n",
       "      <td>Armenia</td>\n",
       "    </tr>\n",
       "    <tr>\n",
       "      <th>1</th>\n",
       "      <td>Angola</td>\n",
       "      <td>26</td>\n",
       "      <td>4.3</td>\n",
       "      <td>3.19</td>\n",
       "      <td>1448.88</td>\n",
       "      <td>1044.240000</td>\n",
       "      <td>42.720000</td>\n",
       "      <td>'Sub-Saharan Africa'</td>\n",
       "      <td>4.033</td>\n",
       "      <td>0.75778</td>\n",
       "      <td>Angola</td>\n",
       "    </tr>\n",
       "    <tr>\n",
       "      <th>2</th>\n",
       "      <td>Argentina</td>\n",
       "      <td>60</td>\n",
       "      <td>7.1</td>\n",
       "      <td>1.91</td>\n",
       "      <td>7101.12</td>\n",
       "      <td>5109.400000</td>\n",
       "      <td>45.475556</td>\n",
       "      <td>'Latin America and Caribbean'</td>\n",
       "      <td>6.574</td>\n",
       "      <td>1.05351</td>\n",
       "      <td>Argentina</td>\n",
       "    </tr>\n",
       "    <tr>\n",
       "      <th>3</th>\n",
       "      <td>Austria</td>\n",
       "      <td>59</td>\n",
       "      <td>7.2</td>\n",
       "      <td>2.11</td>\n",
       "      <td>19457.04</td>\n",
       "      <td>16879.620000</td>\n",
       "      <td>30.296250</td>\n",
       "      <td>'Western Europe'</td>\n",
       "      <td>7.200</td>\n",
       "      <td>1.33723</td>\n",
       "      <td>Austria</td>\n",
       "    </tr>\n",
       "    <tr>\n",
       "      <th>4</th>\n",
       "      <td>Australia</td>\n",
       "      <td>65</td>\n",
       "      <td>7.6</td>\n",
       "      <td>1.80</td>\n",
       "      <td>19917.00</td>\n",
       "      <td>15846.060000</td>\n",
       "      <td>35.285000</td>\n",
       "      <td>'Australia and New Zealand'</td>\n",
       "      <td>7.284</td>\n",
       "      <td>1.33358</td>\n",
       "      <td>Australia</td>\n",
       "    </tr>\n",
       "    <tr>\n",
       "      <th>...</th>\n",
       "      <td>...</td>\n",
       "      <td>...</td>\n",
       "      <td>...</td>\n",
       "      <td>...</td>\n",
       "      <td>...</td>\n",
       "      <td>...</td>\n",
       "      <td>...</td>\n",
       "      <td>...</td>\n",
       "      <td>...</td>\n",
       "      <td>...</td>\n",
       "      <td>...</td>\n",
       "    </tr>\n",
       "    <tr>\n",
       "      <th>106</th>\n",
       "      <td>Uruguay</td>\n",
       "      <td>58</td>\n",
       "      <td>7.0</td>\n",
       "      <td>2.13</td>\n",
       "      <td>7544.40</td>\n",
       "      <td>5269.226667</td>\n",
       "      <td>45.014444</td>\n",
       "      <td>'Latin America and Caribbean'</td>\n",
       "      <td>6.485</td>\n",
       "      <td>1.06166</td>\n",
       "      <td>Uruguay</td>\n",
       "    </tr>\n",
       "    <tr>\n",
       "      <th>107</th>\n",
       "      <td>Vietnam</td>\n",
       "      <td>53</td>\n",
       "      <td>6.1</td>\n",
       "      <td>1.77</td>\n",
       "      <td>2231.40</td>\n",
       "      <td>1643.580000</td>\n",
       "      <td>39.242500</td>\n",
       "      <td>'Southeastern Asia'</td>\n",
       "      <td>5.360</td>\n",
       "      <td>0.63216</td>\n",
       "      <td>Vietnam</td>\n",
       "    </tr>\n",
       "    <tr>\n",
       "      <th>108</th>\n",
       "      <td>South Africa</td>\n",
       "      <td>49</td>\n",
       "      <td>6.3</td>\n",
       "      <td>2.47</td>\n",
       "      <td>3889.32</td>\n",
       "      <td>1506.400000</td>\n",
       "      <td>63.726667</td>\n",
       "      <td>'Sub-Saharan Africa'</td>\n",
       "      <td>4.642</td>\n",
       "      <td>0.92049</td>\n",
       "      <td>South Africa</td>\n",
       "    </tr>\n",
       "    <tr>\n",
       "      <th>109</th>\n",
       "      <td>Zambia</td>\n",
       "      <td>37</td>\n",
       "      <td>5.0</td>\n",
       "      <td>2.61</td>\n",
       "      <td>956.76</td>\n",
       "      <td>510.060000</td>\n",
       "      <td>55.120000</td>\n",
       "      <td>'Sub-Saharan Africa'</td>\n",
       "      <td>5.129</td>\n",
       "      <td>0.47038</td>\n",
       "      <td>Zambia</td>\n",
       "    </tr>\n",
       "    <tr>\n",
       "      <th>110</th>\n",
       "      <td>Zimbabwe</td>\n",
       "      <td>33</td>\n",
       "      <td>4.1</td>\n",
       "      <td>2.16</td>\n",
       "      <td>1768.56</td>\n",
       "      <td>1230.600000</td>\n",
       "      <td>43.150000</td>\n",
       "      <td>'Sub-Saharan Africa'</td>\n",
       "      <td>4.610</td>\n",
       "      <td>0.27100</td>\n",
       "      <td>Zimbabwe</td>\n",
       "    </tr>\n",
       "  </tbody>\n",
       "</table>\n",
       "<p>111 rows × 11 columns</p>\n",
       "</div>"
      ],
      "text/plain": [
       "          country  adjusted_satisfaction  avg_satisfaction  std_satisfaction  \\\n",
       "0         Armenia                     37               4.9              2.42   \n",
       "1          Angola                     26               4.3              3.19   \n",
       "2       Argentina                     60               7.1              1.91   \n",
       "3         Austria                     59               7.2              2.11   \n",
       "4       Australia                     65               7.6              1.80   \n",
       "..            ...                    ...               ...               ...   \n",
       "106       Uruguay                     58               7.0              2.13   \n",
       "107       Vietnam                     53               6.1              1.77   \n",
       "108  South Africa                     49               6.3              2.47   \n",
       "109        Zambia                     37               5.0              2.61   \n",
       "110      Zimbabwe                     33               4.1              2.16   \n",
       "\n",
       "     avg_income  median_income  income_inequality  \\\n",
       "0       2096.76    1731.506667          31.445556   \n",
       "1       1448.88    1044.240000          42.720000   \n",
       "2       7101.12    5109.400000          45.475556   \n",
       "3      19457.04   16879.620000          30.296250   \n",
       "4      19917.00   15846.060000          35.285000   \n",
       "..          ...            ...                ...   \n",
       "106     7544.40    5269.226667          45.014444   \n",
       "107     2231.40    1643.580000          39.242500   \n",
       "108     3889.32    1506.400000          63.726667   \n",
       "109      956.76     510.060000          55.120000   \n",
       "110     1768.56    1230.600000          43.150000   \n",
       "\n",
       "                            region  happyScore      GDP     country.1  \n",
       "0     'Central and Eastern Europe'       4.350  0.76821       Armenia  \n",
       "1             'Sub-Saharan Africa'       4.033  0.75778        Angola  \n",
       "2    'Latin America and Caribbean'       6.574  1.05351     Argentina  \n",
       "3                 'Western Europe'       7.200  1.33723       Austria  \n",
       "4      'Australia and New Zealand'       7.284  1.33358     Australia  \n",
       "..                             ...         ...      ...           ...  \n",
       "106  'Latin America and Caribbean'       6.485  1.06166       Uruguay  \n",
       "107            'Southeastern Asia'       5.360  0.63216       Vietnam  \n",
       "108           'Sub-Saharan Africa'       4.642  0.92049  South Africa  \n",
       "109           'Sub-Saharan Africa'       5.129  0.47038        Zambia  \n",
       "110           'Sub-Saharan Africa'       4.610  0.27100      Zimbabwe  \n",
       "\n",
       "[111 rows x 11 columns]"
      ]
     },
     "execution_count": 14,
     "metadata": {},
     "output_type": "execute_result"
    }
   ],
   "source": [
    "data"
   ]
  },
  {
   "cell_type": "code",
   "execution_count": 15,
   "metadata": {},
   "outputs": [
    {
     "data": {
      "text/html": [
       "<div>\n",
       "<style scoped>\n",
       "    .dataframe tbody tr th:only-of-type {\n",
       "        vertical-align: middle;\n",
       "    }\n",
       "\n",
       "    .dataframe tbody tr th {\n",
       "        vertical-align: top;\n",
       "    }\n",
       "\n",
       "    .dataframe thead th {\n",
       "        text-align: right;\n",
       "    }\n",
       "</style>\n",
       "<table border=\"1\" class=\"dataframe\">\n",
       "  <thead>\n",
       "    <tr style=\"text-align: right;\">\n",
       "      <th></th>\n",
       "      <th>country</th>\n",
       "      <th>adjusted_satisfaction</th>\n",
       "      <th>avg_satisfaction</th>\n",
       "      <th>std_satisfaction</th>\n",
       "      <th>avg_income</th>\n",
       "      <th>median_income</th>\n",
       "      <th>income_inequality</th>\n",
       "      <th>region</th>\n",
       "      <th>happyScore</th>\n",
       "      <th>GDP</th>\n",
       "      <th>country.1</th>\n",
       "    </tr>\n",
       "  </thead>\n",
       "  <tbody>\n",
       "    <tr>\n",
       "      <th>10</th>\n",
       "      <td>Burundi</td>\n",
       "      <td>25</td>\n",
       "      <td>2.9</td>\n",
       "      <td>1.96</td>\n",
       "      <td>572.880</td>\n",
       "      <td>436.92</td>\n",
       "      <td>33.360000</td>\n",
       "      <td>'Sub-Saharan Africa'</td>\n",
       "      <td>2.905</td>\n",
       "      <td>0.01530</td>\n",
       "      <td>Burundi</td>\n",
       "    </tr>\n",
       "    <tr>\n",
       "      <th>65</th>\n",
       "      <td>Madagascar</td>\n",
       "      <td>33</td>\n",
       "      <td>3.7</td>\n",
       "      <td>1.86</td>\n",
       "      <td>574.200</td>\n",
       "      <td>415.48</td>\n",
       "      <td>40.720000</td>\n",
       "      <td>'Sub-Saharan Africa'</td>\n",
       "      <td>3.681</td>\n",
       "      <td>0.20824</td>\n",
       "      <td>Madagascar</td>\n",
       "    </tr>\n",
       "    <tr>\n",
       "      <th>58</th>\n",
       "      <td>Liberia</td>\n",
       "      <td>37</td>\n",
       "      <td>4.4</td>\n",
       "      <td>2.02</td>\n",
       "      <td>653.040</td>\n",
       "      <td>528.72</td>\n",
       "      <td>36.480000</td>\n",
       "      <td>'Sub-Saharan Africa'</td>\n",
       "      <td>4.571</td>\n",
       "      <td>0.07120</td>\n",
       "      <td>Liberia</td>\n",
       "    </tr>\n",
       "    <tr>\n",
       "      <th>72</th>\n",
       "      <td>Mozambique</td>\n",
       "      <td>34</td>\n",
       "      <td>3.8</td>\n",
       "      <td>1.76</td>\n",
       "      <td>714.720</td>\n",
       "      <td>488.52</td>\n",
       "      <td>45.580000</td>\n",
       "      <td>'Sub-Saharan Africa'</td>\n",
       "      <td>4.971</td>\n",
       "      <td>0.08308</td>\n",
       "      <td>Mozambique</td>\n",
       "    </tr>\n",
       "    <tr>\n",
       "      <th>73</th>\n",
       "      <td>Niger</td>\n",
       "      <td>34</td>\n",
       "      <td>3.8</td>\n",
       "      <td>1.75</td>\n",
       "      <td>718.400</td>\n",
       "      <td>535.56</td>\n",
       "      <td>37.726667</td>\n",
       "      <td>'Sub-Saharan Africa'</td>\n",
       "      <td>3.845</td>\n",
       "      <td>0.06940</td>\n",
       "      <td>Niger</td>\n",
       "    </tr>\n",
       "    <tr>\n",
       "      <th>...</th>\n",
       "      <td>...</td>\n",
       "      <td>...</td>\n",
       "      <td>...</td>\n",
       "      <td>...</td>\n",
       "      <td>...</td>\n",
       "      <td>...</td>\n",
       "      <td>...</td>\n",
       "      <td>...</td>\n",
       "      <td>...</td>\n",
       "      <td>...</td>\n",
       "      <td>...</td>\n",
       "    </tr>\n",
       "    <tr>\n",
       "      <th>16</th>\n",
       "      <td>Canada</td>\n",
       "      <td>69</td>\n",
       "      <td>8.0</td>\n",
       "      <td>1.71</td>\n",
       "      <td>20190.780</td>\n",
       "      <td>16829.10</td>\n",
       "      <td>33.790000</td>\n",
       "      <td>'North America'</td>\n",
       "      <td>7.427</td>\n",
       "      <td>1.32629</td>\n",
       "      <td>Canada</td>\n",
       "    </tr>\n",
       "    <tr>\n",
       "      <th>77</th>\n",
       "      <td>Norway</td>\n",
       "      <td>70</td>\n",
       "      <td>8.0</td>\n",
       "      <td>1.62</td>\n",
       "      <td>21877.710</td>\n",
       "      <td>19477.62</td>\n",
       "      <td>27.307500</td>\n",
       "      <td>'Western Europe'</td>\n",
       "      <td>7.522</td>\n",
       "      <td>1.45900</td>\n",
       "      <td>Norway</td>\n",
       "    </tr>\n",
       "    <tr>\n",
       "      <th>105</th>\n",
       "      <td>United States</td>\n",
       "      <td>62</td>\n",
       "      <td>7.3</td>\n",
       "      <td>1.92</td>\n",
       "      <td>23127.000</td>\n",
       "      <td>17925.36</td>\n",
       "      <td>41.090000</td>\n",
       "      <td>'North America'</td>\n",
       "      <td>7.119</td>\n",
       "      <td>1.39451</td>\n",
       "      <td>United States</td>\n",
       "    </tr>\n",
       "    <tr>\n",
       "      <th>17</th>\n",
       "      <td>Switzerland</td>\n",
       "      <td>70</td>\n",
       "      <td>8.0</td>\n",
       "      <td>1.62</td>\n",
       "      <td>23400.040</td>\n",
       "      <td>19442.92</td>\n",
       "      <td>32.930000</td>\n",
       "      <td>'Western Europe'</td>\n",
       "      <td>7.587</td>\n",
       "      <td>1.39651</td>\n",
       "      <td>Switzerland</td>\n",
       "    </tr>\n",
       "    <tr>\n",
       "      <th>61</th>\n",
       "      <td>Luxembourg</td>\n",
       "      <td>66</td>\n",
       "      <td>7.7</td>\n",
       "      <td>1.76</td>\n",
       "      <td>26182.275</td>\n",
       "      <td>22240.23</td>\n",
       "      <td>31.950000</td>\n",
       "      <td>'Western Europe'</td>\n",
       "      <td>6.946</td>\n",
       "      <td>1.56391</td>\n",
       "      <td>Luxembourg</td>\n",
       "    </tr>\n",
       "  </tbody>\n",
       "</table>\n",
       "<p>111 rows × 11 columns</p>\n",
       "</div>"
      ],
      "text/plain": [
       "           country  adjusted_satisfaction  avg_satisfaction  std_satisfaction  \\\n",
       "10         Burundi                     25               2.9              1.96   \n",
       "65      Madagascar                     33               3.7              1.86   \n",
       "58         Liberia                     37               4.4              2.02   \n",
       "72      Mozambique                     34               3.8              1.76   \n",
       "73           Niger                     34               3.8              1.75   \n",
       "..             ...                    ...               ...               ...   \n",
       "16          Canada                     69               8.0              1.71   \n",
       "77          Norway                     70               8.0              1.62   \n",
       "105  United States                     62               7.3              1.92   \n",
       "17     Switzerland                     70               8.0              1.62   \n",
       "61      Luxembourg                     66               7.7              1.76   \n",
       "\n",
       "     avg_income  median_income  income_inequality                region  \\\n",
       "10      572.880         436.92          33.360000  'Sub-Saharan Africa'   \n",
       "65      574.200         415.48          40.720000  'Sub-Saharan Africa'   \n",
       "58      653.040         528.72          36.480000  'Sub-Saharan Africa'   \n",
       "72      714.720         488.52          45.580000  'Sub-Saharan Africa'   \n",
       "73      718.400         535.56          37.726667  'Sub-Saharan Africa'   \n",
       "..          ...            ...                ...                   ...   \n",
       "16    20190.780       16829.10          33.790000       'North America'   \n",
       "77    21877.710       19477.62          27.307500      'Western Europe'   \n",
       "105   23127.000       17925.36          41.090000       'North America'   \n",
       "17    23400.040       19442.92          32.930000      'Western Europe'   \n",
       "61    26182.275       22240.23          31.950000      'Western Europe'   \n",
       "\n",
       "     happyScore      GDP      country.1  \n",
       "10        2.905  0.01530        Burundi  \n",
       "65        3.681  0.20824     Madagascar  \n",
       "58        4.571  0.07120        Liberia  \n",
       "72        4.971  0.08308     Mozambique  \n",
       "73        3.845  0.06940          Niger  \n",
       "..          ...      ...            ...  \n",
       "16        7.427  1.32629         Canada  \n",
       "77        7.522  1.45900         Norway  \n",
       "105       7.119  1.39451  United States  \n",
       "17        7.587  1.39651    Switzerland  \n",
       "61        6.946  1.56391     Luxembourg  \n",
       "\n",
       "[111 rows x 11 columns]"
      ]
     },
     "execution_count": 15,
     "metadata": {},
     "output_type": "execute_result"
    }
   ],
   "source": [
    "data.sort_values('avg_income', inplace=True)\n",
    "\n",
    "data\n"
   ]
  },
  {
   "cell_type": "code",
   "execution_count": 17,
   "metadata": {},
   "outputs": [
    {
     "data": {
      "text/html": [
       "<div>\n",
       "<style scoped>\n",
       "    .dataframe tbody tr th:only-of-type {\n",
       "        vertical-align: middle;\n",
       "    }\n",
       "\n",
       "    .dataframe tbody tr th {\n",
       "        vertical-align: top;\n",
       "    }\n",
       "\n",
       "    .dataframe thead th {\n",
       "        text-align: right;\n",
       "    }\n",
       "</style>\n",
       "<table border=\"1\" class=\"dataframe\">\n",
       "  <thead>\n",
       "    <tr style=\"text-align: right;\">\n",
       "      <th></th>\n",
       "      <th>country</th>\n",
       "      <th>adjusted_satisfaction</th>\n",
       "      <th>avg_satisfaction</th>\n",
       "      <th>std_satisfaction</th>\n",
       "      <th>avg_income</th>\n",
       "      <th>median_income</th>\n",
       "      <th>income_inequality</th>\n",
       "      <th>region</th>\n",
       "      <th>happyScore</th>\n",
       "      <th>GDP</th>\n",
       "      <th>country.1</th>\n",
       "    </tr>\n",
       "  </thead>\n",
       "  <tbody>\n",
       "    <tr>\n",
       "      <th>49</th>\n",
       "      <td>Italy</td>\n",
       "      <td>57</td>\n",
       "      <td>6.6</td>\n",
       "      <td>1.81</td>\n",
       "      <td>15437.59500</td>\n",
       "      <td>13163.07000</td>\n",
       "      <td>34.126250</td>\n",
       "      <td>'Western Europe'</td>\n",
       "      <td>5.948</td>\n",
       "      <td>1.25114</td>\n",
       "      <td>Italy</td>\n",
       "    </tr>\n",
       "    <tr>\n",
       "      <th>44</th>\n",
       "      <td>Ireland</td>\n",
       "      <td>64</td>\n",
       "      <td>7.5</td>\n",
       "      <td>1.85</td>\n",
       "      <td>16657.77000</td>\n",
       "      <td>13823.16000</td>\n",
       "      <td>32.418750</td>\n",
       "      <td>'Western Europe'</td>\n",
       "      <td>6.940</td>\n",
       "      <td>1.33596</td>\n",
       "      <td>Ireland</td>\n",
       "    </tr>\n",
       "    <tr>\n",
       "      <th>90</th>\n",
       "      <td>Sweden</td>\n",
       "      <td>67</td>\n",
       "      <td>7.8</td>\n",
       "      <td>1.72</td>\n",
       "      <td>17032.75500</td>\n",
       "      <td>15166.60500</td>\n",
       "      <td>26.950000</td>\n",
       "      <td>'Western Europe'</td>\n",
       "      <td>7.364</td>\n",
       "      <td>1.33171</td>\n",
       "      <td>Sweden</td>\n",
       "    </tr>\n",
       "    <tr>\n",
       "      <th>36</th>\n",
       "      <td>United Kingdom</td>\n",
       "      <td>60</td>\n",
       "      <td>7.1</td>\n",
       "      <td>1.98</td>\n",
       "      <td>17099.55000</td>\n",
       "      <td>14172.73500</td>\n",
       "      <td>34.432500</td>\n",
       "      <td>'Western Europe'</td>\n",
       "      <td>6.867</td>\n",
       "      <td>1.26637</td>\n",
       "      <td>United Kingdom</td>\n",
       "    </tr>\n",
       "    <tr>\n",
       "      <th>7</th>\n",
       "      <td>Belgium</td>\n",
       "      <td>63</td>\n",
       "      <td>7.2</td>\n",
       "      <td>1.72</td>\n",
       "      <td>17168.50500</td>\n",
       "      <td>15166.45500</td>\n",
       "      <td>28.745000</td>\n",
       "      <td>'Western Europe'</td>\n",
       "      <td>6.937</td>\n",
       "      <td>1.30782</td>\n",
       "      <td>Belgium</td>\n",
       "    </tr>\n",
       "    <tr>\n",
       "      <th>33</th>\n",
       "      <td>Finland</td>\n",
       "      <td>70</td>\n",
       "      <td>7.9</td>\n",
       "      <td>1.53</td>\n",
       "      <td>17310.19500</td>\n",
       "      <td>14962.56000</td>\n",
       "      <td>27.723750</td>\n",
       "      <td>'Western Europe'</td>\n",
       "      <td>7.406</td>\n",
       "      <td>1.29025</td>\n",
       "      <td>Finland</td>\n",
       "    </tr>\n",
       "    <tr>\n",
       "      <th>27</th>\n",
       "      <td>Denmark</td>\n",
       "      <td>74</td>\n",
       "      <td>8.4</td>\n",
       "      <td>1.53</td>\n",
       "      <td>17496.51000</td>\n",
       "      <td>15630.88500</td>\n",
       "      <td>28.155000</td>\n",
       "      <td>'Western Europe'</td>\n",
       "      <td>7.527</td>\n",
       "      <td>1.32548</td>\n",
       "      <td>Denmark</td>\n",
       "    </tr>\n",
       "    <tr>\n",
       "      <th>34</th>\n",
       "      <td>France</td>\n",
       "      <td>52</td>\n",
       "      <td>6.4</td>\n",
       "      <td>2.15</td>\n",
       "      <td>18096.78857</td>\n",
       "      <td>14971.25143</td>\n",
       "      <td>32.255714</td>\n",
       "      <td>'Western Europe'</td>\n",
       "      <td>6.575</td>\n",
       "      <td>1.27778</td>\n",
       "      <td>France</td>\n",
       "    </tr>\n",
       "    <tr>\n",
       "      <th>76</th>\n",
       "      <td>Netherlands</td>\n",
       "      <td>69</td>\n",
       "      <td>7.6</td>\n",
       "      <td>1.38</td>\n",
       "      <td>18234.43500</td>\n",
       "      <td>15880.54500</td>\n",
       "      <td>29.271250</td>\n",
       "      <td>'Western Europe'</td>\n",
       "      <td>7.378</td>\n",
       "      <td>1.32944</td>\n",
       "      <td>Netherlands</td>\n",
       "    </tr>\n",
       "    <tr>\n",
       "      <th>48</th>\n",
       "      <td>Iceland</td>\n",
       "      <td>71</td>\n",
       "      <td>8.1</td>\n",
       "      <td>1.64</td>\n",
       "      <td>18828.34500</td>\n",
       "      <td>16179.31500</td>\n",
       "      <td>28.780000</td>\n",
       "      <td>'Western Europe'</td>\n",
       "      <td>7.561</td>\n",
       "      <td>1.30232</td>\n",
       "      <td>Iceland</td>\n",
       "    </tr>\n",
       "    <tr>\n",
       "      <th>25</th>\n",
       "      <td>Germany</td>\n",
       "      <td>61</td>\n",
       "      <td>7.2</td>\n",
       "      <td>1.99</td>\n",
       "      <td>19285.96000</td>\n",
       "      <td>16291.26000</td>\n",
       "      <td>31.541667</td>\n",
       "      <td>'Western Europe'</td>\n",
       "      <td>6.750</td>\n",
       "      <td>1.32792</td>\n",
       "      <td>Germany</td>\n",
       "    </tr>\n",
       "    <tr>\n",
       "      <th>3</th>\n",
       "      <td>Austria</td>\n",
       "      <td>59</td>\n",
       "      <td>7.2</td>\n",
       "      <td>2.11</td>\n",
       "      <td>19457.04000</td>\n",
       "      <td>16879.62000</td>\n",
       "      <td>30.296250</td>\n",
       "      <td>'Western Europe'</td>\n",
       "      <td>7.200</td>\n",
       "      <td>1.33723</td>\n",
       "      <td>Austria</td>\n",
       "    </tr>\n",
       "    <tr>\n",
       "      <th>4</th>\n",
       "      <td>Australia</td>\n",
       "      <td>65</td>\n",
       "      <td>7.6</td>\n",
       "      <td>1.80</td>\n",
       "      <td>19917.00000</td>\n",
       "      <td>15846.06000</td>\n",
       "      <td>35.285000</td>\n",
       "      <td>'Australia and New Zealand'</td>\n",
       "      <td>7.284</td>\n",
       "      <td>1.33358</td>\n",
       "      <td>Australia</td>\n",
       "    </tr>\n",
       "    <tr>\n",
       "      <th>16</th>\n",
       "      <td>Canada</td>\n",
       "      <td>69</td>\n",
       "      <td>8.0</td>\n",
       "      <td>1.71</td>\n",
       "      <td>20190.78000</td>\n",
       "      <td>16829.10000</td>\n",
       "      <td>33.790000</td>\n",
       "      <td>'North America'</td>\n",
       "      <td>7.427</td>\n",
       "      <td>1.32629</td>\n",
       "      <td>Canada</td>\n",
       "    </tr>\n",
       "    <tr>\n",
       "      <th>77</th>\n",
       "      <td>Norway</td>\n",
       "      <td>70</td>\n",
       "      <td>8.0</td>\n",
       "      <td>1.62</td>\n",
       "      <td>21877.71000</td>\n",
       "      <td>19477.62000</td>\n",
       "      <td>27.307500</td>\n",
       "      <td>'Western Europe'</td>\n",
       "      <td>7.522</td>\n",
       "      <td>1.45900</td>\n",
       "      <td>Norway</td>\n",
       "    </tr>\n",
       "    <tr>\n",
       "      <th>105</th>\n",
       "      <td>United States</td>\n",
       "      <td>62</td>\n",
       "      <td>7.3</td>\n",
       "      <td>1.92</td>\n",
       "      <td>23127.00000</td>\n",
       "      <td>17925.36000</td>\n",
       "      <td>41.090000</td>\n",
       "      <td>'North America'</td>\n",
       "      <td>7.119</td>\n",
       "      <td>1.39451</td>\n",
       "      <td>United States</td>\n",
       "    </tr>\n",
       "    <tr>\n",
       "      <th>17</th>\n",
       "      <td>Switzerland</td>\n",
       "      <td>70</td>\n",
       "      <td>8.0</td>\n",
       "      <td>1.62</td>\n",
       "      <td>23400.04000</td>\n",
       "      <td>19442.92000</td>\n",
       "      <td>32.930000</td>\n",
       "      <td>'Western Europe'</td>\n",
       "      <td>7.587</td>\n",
       "      <td>1.39651</td>\n",
       "      <td>Switzerland</td>\n",
       "    </tr>\n",
       "    <tr>\n",
       "      <th>61</th>\n",
       "      <td>Luxembourg</td>\n",
       "      <td>66</td>\n",
       "      <td>7.7</td>\n",
       "      <td>1.76</td>\n",
       "      <td>26182.27500</td>\n",
       "      <td>22240.23000</td>\n",
       "      <td>31.950000</td>\n",
       "      <td>'Western Europe'</td>\n",
       "      <td>6.946</td>\n",
       "      <td>1.56391</td>\n",
       "      <td>Luxembourg</td>\n",
       "    </tr>\n",
       "  </tbody>\n",
       "</table>\n",
       "</div>"
      ],
      "text/plain": [
       "            country  adjusted_satisfaction  avg_satisfaction  \\\n",
       "49            Italy                     57               6.6   \n",
       "44          Ireland                     64               7.5   \n",
       "90           Sweden                     67               7.8   \n",
       "36   United Kingdom                     60               7.1   \n",
       "7           Belgium                     63               7.2   \n",
       "33          Finland                     70               7.9   \n",
       "27          Denmark                     74               8.4   \n",
       "34           France                     52               6.4   \n",
       "76      Netherlands                     69               7.6   \n",
       "48          Iceland                     71               8.1   \n",
       "25          Germany                     61               7.2   \n",
       "3           Austria                     59               7.2   \n",
       "4         Australia                     65               7.6   \n",
       "16           Canada                     69               8.0   \n",
       "77           Norway                     70               8.0   \n",
       "105   United States                     62               7.3   \n",
       "17      Switzerland                     70               8.0   \n",
       "61       Luxembourg                     66               7.7   \n",
       "\n",
       "     std_satisfaction   avg_income  median_income  income_inequality  \\\n",
       "49               1.81  15437.59500    13163.07000          34.126250   \n",
       "44               1.85  16657.77000    13823.16000          32.418750   \n",
       "90               1.72  17032.75500    15166.60500          26.950000   \n",
       "36               1.98  17099.55000    14172.73500          34.432500   \n",
       "7                1.72  17168.50500    15166.45500          28.745000   \n",
       "33               1.53  17310.19500    14962.56000          27.723750   \n",
       "27               1.53  17496.51000    15630.88500          28.155000   \n",
       "34               2.15  18096.78857    14971.25143          32.255714   \n",
       "76               1.38  18234.43500    15880.54500          29.271250   \n",
       "48               1.64  18828.34500    16179.31500          28.780000   \n",
       "25               1.99  19285.96000    16291.26000          31.541667   \n",
       "3                2.11  19457.04000    16879.62000          30.296250   \n",
       "4                1.80  19917.00000    15846.06000          35.285000   \n",
       "16               1.71  20190.78000    16829.10000          33.790000   \n",
       "77               1.62  21877.71000    19477.62000          27.307500   \n",
       "105              1.92  23127.00000    17925.36000          41.090000   \n",
       "17               1.62  23400.04000    19442.92000          32.930000   \n",
       "61               1.76  26182.27500    22240.23000          31.950000   \n",
       "\n",
       "                          region  happyScore      GDP       country.1  \n",
       "49              'Western Europe'       5.948  1.25114           Italy  \n",
       "44              'Western Europe'       6.940  1.33596         Ireland  \n",
       "90              'Western Europe'       7.364  1.33171          Sweden  \n",
       "36              'Western Europe'       6.867  1.26637  United Kingdom  \n",
       "7               'Western Europe'       6.937  1.30782         Belgium  \n",
       "33              'Western Europe'       7.406  1.29025         Finland  \n",
       "27              'Western Europe'       7.527  1.32548         Denmark  \n",
       "34              'Western Europe'       6.575  1.27778          France  \n",
       "76              'Western Europe'       7.378  1.32944     Netherlands  \n",
       "48              'Western Europe'       7.561  1.30232         Iceland  \n",
       "25              'Western Europe'       6.750  1.32792         Germany  \n",
       "3               'Western Europe'       7.200  1.33723         Austria  \n",
       "4    'Australia and New Zealand'       7.284  1.33358       Australia  \n",
       "16               'North America'       7.427  1.32629          Canada  \n",
       "77              'Western Europe'       7.522  1.45900          Norway  \n",
       "105              'North America'       7.119  1.39451   United States  \n",
       "17              'Western Europe'       7.587  1.39651     Switzerland  \n",
       "61              'Western Europe'       6.946  1.56391      Luxembourg  "
      ]
     },
     "execution_count": 17,
     "metadata": {},
     "output_type": "execute_result"
    }
   ],
   "source": [
    "data.sort_values('avg_income', inplace=True)\n",
    "\n",
    "richest = data[data['avg_income'] > 15000 ]\n",
    "\n",
    "richest"
   ]
  },
  {
   "cell_type": "code",
   "execution_count": 18,
   "metadata": {},
   "outputs": [
    {
     "data": {
      "text/plain": [
       "country                             Italy\n",
       "adjusted_satisfaction                  57\n",
       "avg_satisfaction                      6.6\n",
       "std_satisfaction                     1.81\n",
       "avg_income                        15437.6\n",
       "median_income                     13163.1\n",
       "income_inequality                 34.1262\n",
       "region                   'Western Europe'\n",
       "happyScore                          5.948\n",
       "GDP                               1.25114\n",
       "country.1                           Italy\n",
       "Name: 49, dtype: object"
      ]
     },
     "execution_count": 18,
     "metadata": {},
     "output_type": "execute_result"
    }
   ],
   "source": [
    "data.sort_values('avg_income', inplace=True)\n",
    "\n",
    "richest = data[data['avg_income'] > 15000 ]\n",
    "\n",
    "richest.iloc[0]"
   ]
  },
  {
   "cell_type": "code",
   "execution_count": 19,
   "metadata": {},
   "outputs": [
    {
     "data": {
      "text/plain": [
       "country                        Luxembourg\n",
       "adjusted_satisfaction                  66\n",
       "avg_satisfaction                      7.7\n",
       "std_satisfaction                     1.76\n",
       "avg_income                        26182.3\n",
       "median_income                     22240.2\n",
       "income_inequality                   31.95\n",
       "region                   'Western Europe'\n",
       "happyScore                          6.946\n",
       "GDP                               1.56391\n",
       "country.1                      Luxembourg\n",
       "Name: 61, dtype: object"
      ]
     },
     "execution_count": 19,
     "metadata": {},
     "output_type": "execute_result"
    }
   ],
   "source": [
    "data.sort_values('avg_income', inplace=True)\n",
    "\n",
    "richest = data[data['avg_income'] > 15000 ]\n",
    "\n",
    "richest.iloc[-1]"
   ]
  },
  {
   "cell_type": "code",
   "execution_count": 22,
   "metadata": {},
   "outputs": [
    {
     "data": {
      "text/plain": [
       "19266.68075388889"
      ]
     },
     "execution_count": 22,
     "metadata": {},
     "output_type": "execute_result"
    }
   ],
   "source": [
    "import numpy as np\n",
    "\n",
    "data.sort_values('avg_income', inplace=True)\n",
    "\n",
    "richest = data[data['avg_income'] > 15000 ]\n",
    "\n",
    "np.mean(richest['avg_income'])"
   ]
  },
  {
   "cell_type": "code",
   "execution_count": 23,
   "metadata": {},
   "outputs": [
    {
     "name": "stdout",
     "output_type": "stream",
     "text": [
      "6442.75141618018 19266.68075388889\n"
     ]
    }
   ],
   "source": [
    "import numpy as np\n",
    "\n",
    "data.sort_values('avg_income', inplace=True)\n",
    "\n",
    "richest = data[data['avg_income'] > 15000 ]\n",
    "\n",
    "richest_mean = np.mean(richest['avg_income'])\n",
    "\n",
    "all_mean = np.mean(data['avg_income'])\n",
    "\n",
    "print(all_mean, richest_mean)"
   ]
  },
  {
   "cell_type": "code",
   "execution_count": 25,
   "metadata": {},
   "outputs": [
    {
     "data": {
      "text/plain": [
       "Text(15437.595, 5.9479999999999995, 'Italy')"
      ]
     },
     "execution_count": 25,
     "metadata": {},
     "output_type": "execute_result"
    },
    {
     "data": {
      "image/png": "[encoded data removed]",
      "text/plain": [
       "<Figure size 432x288 with 1 Axes>"
      ]
     },
     "metadata": {
      "needs_background": "light"
     },
     "output_type": "display_data"
    }
   ],
   "source": [
    "data.sort_values('avg_income', inplace=True)\n",
    "\n",
    "richest = data[data['avg_income'] > 15000 ]\n",
    "\n",
    "plt.scatter(richest['avg_income'], richest['happyScore'])\n",
    "\n",
    "plt.text(richest.iloc[0]['avg_income'], richest.iloc[0]['happyScore'], richest.iloc[0]['country'])"
   ]
  },
  {
   "cell_type": "code",
   "execution_count": 26,
   "metadata": {},
   "outputs": [
    {
     "data": {
      "text/plain": [
       "Text(26182.275, 6.946000000000001, 'Luxembourg')"
      ]
     },
     "execution_count": 26,
     "metadata": {},
     "output_type": "execute_result"
    },
    {
     "data": {
      "image/png": "[encoded data removed]",
      "text/plain": [
       "<Figure size 432x288 with 1 Axes>"
      ]
     },
     "metadata": {
      "needs_background": "light"
     },
     "output_type": "display_data"
    }
   ],
   "source": [
    "data.sort_values('avg_income', inplace=True)\n",
    "\n",
    "richest = data[data['avg_income'] > 15000 ]\n",
    "\n",
    "plt.scatter(richest['avg_income'], richest['happyScore'])\n",
    "\n",
    "plt.text(richest.iloc[-1]['avg_income'], richest.iloc[-1]['happyScore'], richest.iloc[-1]['country'])"
   ]
  },
  {
   "cell_type": "code",
   "execution_count": 28,
   "metadata": {},
   "outputs": [
    {
     "name": "stdout",
     "output_type": "stream",
     "text": [
      "Italy\n",
      "Ireland\n",
      "Sweden\n",
      "United Kingdom\n",
      "Belgium\n",
      "Finland\n",
      "Denmark\n",
      "France\n",
      "Netherlands\n",
      "Iceland\n",
      "Germany\n",
      "Austria\n",
      "Australia\n",
      "Canada\n",
      "Norway\n",
      "United States\n",
      "Switzerland\n",
      "Luxembourg\n"
     ]
    }
   ],
   "source": [
    "for k,row in richest.iterrows():\n",
    "    print(row['country'])"
   ]
  },
  {
   "cell_type": "code",
   "execution_count": 30,
   "metadata": {},
   "outputs": [
    {
     "data": {
      "image/png": "[encoded data removed]",
      "text/plain": [
       "<Figure size 432x288 with 1 Axes>"
      ]
     },
     "metadata": {
      "needs_background": "light"
     },
     "output_type": "display_data"
    }
   ],
   "source": [
    "data.sort_values('avg_income', inplace=True)\n",
    "\n",
    "richest = data[data['avg_income'] > 15000 ]\n",
    "\n",
    "plt.scatter(richest['avg_income'], richest['happyScore'])\n",
    "\n",
    "for k,row in richest.iterrows():\n",
    "    plt.text(row['avg_income'],row['happyScore'],row['country'])\n",
    "    \n",
    "    #print(row['country'])"
   ]
  },
  {
   "cell_type": "code",
   "execution_count": 31,
   "metadata": {},
   "outputs": [
    {
     "data": {
      "text/plain": [
       "<matplotlib.collections.PathCollection at 0x1cfe7ba89c8>"
      ]
     },
     "execution_count": 31,
     "metadata": {},
     "output_type": "execute_result"
    },
    {
     "data": {
      "image/png": "[encoded data removed]",
      "text/plain": [
       "<Figure size 432x288 with 1 Axes>"
      ]
     },
     "metadata": {
      "needs_background": "light"
     },
     "output_type": "display_data"
    }
   ],
   "source": [
    "import matplotlib.pyplot as plt\n",
    "\n",
    "plt.scatter(income, happy)"
   ]
  },
  {
   "cell_type": "code",
   "execution_count": 32,
   "metadata": {},
   "outputs": [
    {
     "data": {
      "text/plain": [
       "572.88"
      ]
     },
     "execution_count": 32,
     "metadata": {},
     "output_type": "execute_result"
    },
    {
     "data": {
      "image/png": "[encoded data removed]",
      "text/plain": [
       "<Figure size 432x288 with 1 Axes>"
      ]
     },
     "metadata": {
      "needs_background": "light"
     },
     "output_type": "display_data"
    }
   ],
   "source": [
    "import matplotlib.pyplot as plt\n",
    "\n",
    "plt.scatter(income, happy)\n",
    "\n",
    "\n",
    "happy = data['happyScore']\n",
    "income = data['avg_income']\n",
    "ineq = data['income_inequality']\n",
    "\n",
    "income.min()"
   ]
  },
  {
   "cell_type": "code",
   "execution_count": 33,
   "metadata": {},
   "outputs": [
    {
     "data": {
      "text/plain": [
       "<matplotlib.collections.PathCollection at 0x1cfe7a5db88>"
      ]
     },
     "execution_count": 33,
     "metadata": {},
     "output_type": "execute_result"
    },
    {
     "data": {
      "image/png": "[encoded data removed]",
      "text/plain": [
       "<Figure size 432x288 with 1 Axes>"
      ]
     },
     "metadata": {
      "needs_background": "light"
     },
     "output_type": "display_data"
    }
   ],
   "source": [
    "import matplotlib.pyplot as plt\n",
    "\n",
    "plt.xlabel('income')\n",
    "plt.ylabel('happy')\n",
    "plt.scatter(income, ineq)"
   ]
  },
  {
   "cell_type": "code",
   "execution_count": 34,
   "metadata": {},
   "outputs": [
    {
     "data": {
      "text/plain": [
       "<matplotlib.collections.PathCollection at 0x1cfe7ce4908>"
      ]
     },
     "execution_count": 34,
     "metadata": {},
     "output_type": "execute_result"
    },
    {
     "data": {
      "image/png": "[encoded data removed]",
      "text/plain": [
       "<Figure size 432x288 with 1 Axes>"
      ]
     },
     "metadata": {
      "needs_background": "light"
     },
     "output_type": "display_data"
    }
   ],
   "source": [
    "import matplotlib.pyplot as plt\n",
    "\n",
    "plt.xlabel('income')\n",
    "plt.ylabel('happy')\n",
    "plt.scatter(happy, ineq)"
   ]
  },
  {
   "cell_type": "code",
   "execution_count": 35,
   "metadata": {},
   "outputs": [
    {
     "data": {
      "text/plain": [
       "<matplotlib.collections.PathCollection at 0x1cfe8d25a48>"
      ]
     },
     "execution_count": 35,
     "metadata": {},
     "output_type": "execute_result"
    },
    {
     "data": {
      "image/png": "[encoded data removed]",
      "text/plain": [
       "<Figure size 432x288 with 1 Axes>"
      ]
     },
     "metadata": {
      "needs_background": "light"
     },
     "output_type": "display_data"
    }
   ],
   "source": [
    "import matplotlib.pyplot as plt\n",
    "\n",
    "plt.xlabel('income')\n",
    "plt.ylabel('happy')\n",
    "plt.scatter(ineq, happy)"
   ]
  },
  {
   "cell_type": "code",
   "execution_count": 40,
   "metadata": {},
   "outputs": [
    {
     "data": {
      "text/plain": [
       "<matplotlib.collections.PathCollection at 0x1cfe7a82bc8>"
      ]
     },
     "execution_count": 40,
     "metadata": {},
     "output_type": "execute_result"
    },
    {
     "data": {
      "image/png": "[encoded data removed]",
      "text/plain": [
       "<Figure size 432x288 with 1 Axes>"
      ]
     },
     "metadata": {
      "needs_background": "light"
     },
     "output_type": "display_data"
    }
   ],
   "source": [
    "import matplotlib.pyplot as plt\n",
    "\n",
    "plt.xlabel('income')\n",
    "plt.ylabel('happy')\n",
    "plt.scatter(income, happy, s = ineq*10, alpha=.15)"
   ]
  },
  {
   "cell_type": "code",
   "execution_count": 43,
   "metadata": {},
   "outputs": [
    {
     "data": {
      "text/plain": [
       "10       572.880\n",
       "65       574.200\n",
       "58       653.040\n",
       "72       714.720\n",
       "73       718.400\n",
       "         ...    \n",
       "16     20190.780\n",
       "77     21877.710\n",
       "105    23127.000\n",
       "17     23400.040\n",
       "61     26182.275\n",
       "Name: avg_income, Length: 111, dtype: float64"
      ]
     },
     "execution_count": 43,
     "metadata": {},
     "output_type": "execute_result"
    }
   ],
   "source": [
    "from sklearn.cluster import KMeans\n",
    "\n",
    "income"
   ]
  },
  {
   "cell_type": "code",
   "execution_count": 45,
   "metadata": {},
   "outputs": [
    {
     "name": "stdout",
     "output_type": "stream",
     "text": [
      "[[5.72880000e+02 2.90500000e+00]\n",
      " [5.74200000e+02 3.68100000e+00]\n",
      " [6.53040000e+02 4.57100000e+00]\n",
      " [7.14720000e+02 4.97100000e+00]\n",
      " [7.18400000e+02 3.84500000e+00]\n",
      " [8.50080000e+02 4.50700000e+00]\n",
      " [8.70840000e+02 3.58700000e+00]\n",
      " [9.03300000e+02 3.99500000e+00]\n",
      " [9.08640000e+02 4.89800000e+00]\n",
      " [9.10320000e+02 5.26800000e+00]\n",
      " [9.36360000e+02 2.83900000e+00]\n",
      " [9.41400000e+02 3.78100000e+00]\n",
      " [9.46520000e+02 3.46500000e+00]\n",
      " [9.56760000e+02 5.12900000e+00]\n",
      " [9.89040000e+02 3.34000000e+00]\n",
      " [1.05072000e+03 4.51200000e+00]\n",
      " [1.12648000e+03 3.93100000e+00]\n",
      " [1.13508000e+03 3.90400000e+00]\n",
      " [1.17768000e+03 3.66700000e+00]\n",
      " [1.26534000e+03 4.69400000e+00]\n",
      " [1.35784800e+03 4.56500000e+00]\n",
      " [1.42812000e+03 4.51400000e+00]\n",
      " [1.44888000e+03 4.03300000e+00]\n",
      " [1.46385600e+03 5.19400000e+00]\n",
      " [1.49052000e+03 4.25200000e+00]\n",
      " [1.49172000e+03 4.87600000e+00]\n",
      " [1.49268000e+03 4.41900000e+00]\n",
      " [1.49703000e+03 4.78600000e+00]\n",
      " [1.54174737e+03 5.39900000e+00]\n",
      " [1.57704000e+03 4.63300000e+00]\n",
      " [1.76856000e+03 4.61000000e+00]\n",
      " [1.85264000e+03 5.28600000e+00]\n",
      " [1.86872000e+03 3.81900000e+00]\n",
      " [1.87524000e+03 4.36900000e+00]\n",
      " [1.92264000e+03 4.43600000e+00]\n",
      " [1.95726667e+03 4.29700000e+00]\n",
      " [2.09676000e+03 4.35000000e+00]\n",
      " [2.22446400e+03 5.07300000e+00]\n",
      " [2.23140000e+03 5.36000000e+00]\n",
      " [2.41920000e+03 5.82800000e+00]\n",
      " [2.52096000e+03 3.89600000e+00]\n",
      " [2.55828000e+03 4.27100000e+00]\n",
      " [2.62700571e+03 5.58900000e+00]\n",
      " [2.67364286e+03 5.14000000e+00]\n",
      " [2.86488000e+03 5.01300000e+00]\n",
      " [3.07728000e+03 5.88900000e+00]\n",
      " [3.08044000e+03 4.78800000e+00]\n",
      " [3.17415000e+03 5.12400000e+00]\n",
      " [3.18180000e+03 4.87400000e+00]\n",
      " [3.25128000e+03 4.73900000e+00]\n",
      " [3.38160000e+03 5.21200000e+00]\n",
      " [3.41089333e+03 6.13000000e+00]\n",
      " [3.48468000e+03 4.33200000e+00]\n",
      " [3.55509333e+03 5.85500000e+00]\n",
      " [3.83565333e+03 5.97500000e+00]\n",
      " [3.88932000e+03 4.64200000e+00]\n",
      " [3.98571000e+03 5.89000000e+00]\n",
      " [4.12050000e+03 5.47700000e+00]\n",
      " [4.12968000e+03 4.68100000e+00]\n",
      " [4.14800000e+03 7.18700000e+00]\n",
      " [4.31266667e+03 5.82400000e+00]\n",
      " [4.43076000e+03 4.88500000e+00]\n",
      " [4.61806286e+03 6.47700000e+00]\n",
      " [4.62990857e+03 5.12300000e+00]\n",
      " [4.79250000e+03 6.45500000e+00]\n",
      " [4.93852000e+03 5.87800000e+00]\n",
      " [5.21504000e+03 4.68600000e+00]\n",
      " [5.24266667e+03 5.33200000e+00]\n",
      " [5.35482000e+03 4.21800000e+00]\n",
      " [5.45393333e+03 5.81300000e+00]\n",
      " [5.56723500e+03 6.98300000e+00]\n",
      " [6.25036000e+03 6.78600000e+00]\n",
      " [6.58246588e+03 5.79100000e+00]\n",
      " [6.72290182e+03 5.09800000e+00]\n",
      " [6.78916000e+03 5.83300000e+00]\n",
      " [6.90146667e+03 7.22600000e+00]\n",
      " [6.90388364e+03 4.80000000e+00]\n",
      " [7.10112000e+03 6.57400000e+00]\n",
      " [7.28682000e+03 5.77000000e+00]\n",
      " [7.54440000e+03 6.48500000e+00]\n",
      " [7.55799000e+03 6.67000000e+00]\n",
      " [7.64719500e+03 5.71600000e+00]\n",
      " [7.82808000e+03 5.75900000e+00]\n",
      " [7.90672500e+03 5.42900000e+00]\n",
      " [7.98639692e+03 5.99500000e+00]\n",
      " [9.43090500e+03 6.50500000e+00]\n",
      " [9.98287500e+03 5.10200000e+00]\n",
      " [1.04939550e+04 5.68900000e+00]\n",
      " [1.06452400e+04 7.27800000e+00]\n",
      " [1.15075650e+04 4.85700000e+00]\n",
      " [1.21747650e+04 5.84800000e+00]\n",
      " [1.38429900e+04 6.32900000e+00]\n",
      " [1.45428000e+04 5.98700000e+00]\n",
      " [1.54375950e+04 5.94800000e+00]\n",
      " [1.66577700e+04 6.94000000e+00]\n",
      " [1.70327550e+04 7.36400000e+00]\n",
      " [1.70995500e+04 6.86700000e+00]\n",
      " [1.71685050e+04 6.93700000e+00]\n",
      " [1.73101950e+04 7.40600000e+00]\n",
      " [1.74965100e+04 7.52700000e+00]\n",
      " [1.80967886e+04 6.57500000e+00]\n",
      " [1.82344350e+04 7.37800000e+00]\n",
      " [1.88283450e+04 7.56100000e+00]\n",
      " [1.92859600e+04 6.75000000e+00]\n",
      " [1.94570400e+04 7.20000000e+00]\n",
      " [1.99170000e+04 7.28400000e+00]\n",
      " [2.01907800e+04 7.42700000e+00]\n",
      " [2.18777100e+04 7.52200000e+00]\n",
      " [2.31270000e+04 7.11900000e+00]\n",
      " [2.34000400e+04 7.58700000e+00]\n",
      " [2.61822750e+04 6.94600000e+00]]\n"
     ]
    }
   ],
   "source": [
    "from sklearn.cluster import KMeans\n",
    "import numpy as np\n",
    "\n",
    "income_happy = np.column_stack((income, happy))\n",
    "print(income_happy)"
   ]
  },
  {
   "cell_type": "code",
   "execution_count": 51,
   "metadata": {},
   "outputs": [
    {
     "data": {
      "text/plain": [
       "<matplotlib.collections.PathCollection at 0x1cfea819388>"
      ]
     },
     "execution_count": 51,
     "metadata": {},
     "output_type": "execute_result"
    },
    {
     "data": {
      "image/png": "[encoded data removed]",
      "text/plain": [
       "<Figure size 432x288 with 1 Axes>"
      ]
     },
     "metadata": {
      "needs_background": "light"
     },
     "output_type": "display_data"
    }
   ],
   "source": [
    "from sklearn.cluster import KMeans\n",
    "import numpy as np\n",
    "\n",
    "income_happy = np.column_stack((income, happy))\n",
    "\n",
    "km_res = KMeans(n_clusters=3).fit(income_happy)\n",
    "\n",
    "clusters = km_res.cluster_centers_\n",
    "\n",
    "plt.scatter(income, happy)\n",
    "plt.scatter(clusters[:,0], clusters[:,1], s=1000)"
   ]
  },
  {
   "cell_type": "code",
   "execution_count": 47,
   "metadata": {},
   "outputs": [
    {
     "data": {
      "text/plain": [
       "array([[1.44518229e+03, 4.42011364e+00],\n",
       "       [1.75374387e+04, 6.96750000e+00],\n",
       "       [8.26221350e+03, 5.96055000e+00],\n",
       "       [4.11581752e+03, 5.46229630e+00],\n",
       "       [2.36467562e+04, 7.29350000e+00]])"
      ]
     },
     "execution_count": 47,
     "metadata": {},
     "output_type": "execute_result"
    }
   ],
   "source": [
    "km_res.cluster_centers_"
   ]
  },
  {
   "cell_type": "code",
   "execution_count": 65,
   "metadata": {},
   "outputs": [
    {
     "data": {
      "text/plain": [
       "<matplotlib.collections.PathCollection at 0x1cfebc9ad48>"
      ]
     },
     "execution_count": 65,
     "metadata": {},
     "output_type": "execute_result"
    },
    {
     "data": {
      "image/png": "[encoded data removed]",
      "text/plain": [
       "<Figure size 432x288 with 1 Axes>"
      ]
     },
     "metadata": {
      "needs_background": "light"
     },
     "output_type": "display_data"
    }
   ],
   "source": [
    "from sklearn.cluster import KMeans\n",
    "import numpy as np\n",
    "\n",
    "income_happy = np.column_stack((income, happy))\n",
    "\n",
    "km_res = KMeans(n_clusters=6).fit(income_happy)\n",
    "\n",
    "clusters = km_res.cluster_centers_\n",
    "\n",
    "plt.scatter(income, happy)\n",
    "plt.scatter(clusters[:,0], clusters[:,1], s=1000)"
   ]
  },
  {
   "cell_type": "code",
   "execution_count": 64,
   "metadata": {},
   "outputs": [
    {
     "ename": "ValueError",
     "evalue": "Expected 2D array, got 1D array instead:\narray=[31.44555556 42.72       45.47555556 30.29625    35.285      24.215\n 32.665      28.745      39.76       34.1625     33.36       43.44\n 51.61       54.33375    60.46       27.75444444 33.79       32.93\n 51.27       42.82       37.57928571 54.81571429 49.01888889 31.84\n 26.41375    31.54166667 44.63       28.155      48.41777778 50.09555556\n 32.5275     34.625      33.17       27.72375    32.25571429 42.18\n 34.4325     40.89444444 42.77       35.00125    55.80555556 32.00857143\n 29.55545455 34.90842105 32.41875    41.94       34.918      39.24\n 28.78       34.12625    32.11       48.51       31.03555556 34.465\n 30.07571429 28.42222222 37.265      38.6        36.48       54.18\n 35.12       31.95       36.33454545 40.72       32.67444444 40.72\n 35.985      34.1325     35.69       35.745      48.97444444 46.155\n 45.58       37.72666667 42.97       45.79666667 29.27125    27.3075\n 32.84       52.66444444 48.1        44.768      31.196      33.58882353\n 36.63       50.96666667 32.054375   29.72714286 41.24       51.27333333\n 26.95       24.67875    27.05615385 33.99       39.755      44.82333333\n 43.32       44.115      39.44875    30.9725     36.77       39.76333333\n 39.03       26.27111111 42.71666667 41.09       45.01444444 39.2425\n 63.72666667 55.12       43.15      ].\nReshape your data either using array.reshape(-1, 1) if your data has a single feature or array.reshape(1, -1) if it contains a single sample.",
     "output_type": "error",
     "traceback": [
      "\u001b[1;31m---------------------------------------------------------------------------\u001b[0m",
      "\u001b[1;31mValueError\u001b[0m                                Traceback (most recent call last)",
      "\u001b[1;32m<ipython-input-64-61eb4ecd95a9>\u001b[0m in \u001b[0;36m<module>\u001b[1;34m\u001b[0m\n\u001b[0;32m     16\u001b[0m \u001b[0mineq_happy\u001b[0m \u001b[1;33m=\u001b[0m \u001b[0mnp\u001b[0m\u001b[1;33m.\u001b[0m\u001b[0mcolumn_stack\u001b[0m\u001b[1;33m(\u001b[0m\u001b[1;33m(\u001b[0m\u001b[0mineq\u001b[0m\u001b[1;33m,\u001b[0m \u001b[0mhappy\u001b[0m\u001b[1;33m)\u001b[0m\u001b[1;33m)\u001b[0m\u001b[1;33m\u001b[0m\u001b[1;33m\u001b[0m\u001b[0m\n\u001b[0;32m     17\u001b[0m \u001b[1;33m\u001b[0m\u001b[0m\n\u001b[1;32m---> 18\u001b[1;33m \u001b[0mkm_res\u001b[0m \u001b[1;33m=\u001b[0m \u001b[0mKMeans\u001b[0m\u001b[1;33m(\u001b[0m\u001b[0mn_clusters\u001b[0m\u001b[1;33m=\u001b[0m\u001b[1;36m5\u001b[0m\u001b[1;33m)\u001b[0m\u001b[1;33m.\u001b[0m\u001b[0mfit\u001b[0m\u001b[1;33m(\u001b[0m\u001b[0mineq\u001b[0m\u001b[1;33m,\u001b[0m \u001b[0mhappy\u001b[0m\u001b[1;33m)\u001b[0m\u001b[1;33m\u001b[0m\u001b[1;33m\u001b[0m\u001b[0m\n\u001b[0m\u001b[0;32m     19\u001b[0m \u001b[1;33m\u001b[0m\u001b[0m\n\u001b[0;32m     20\u001b[0m \u001b[0mclusters\u001b[0m \u001b[1;33m=\u001b[0m \u001b[0mkm_res\u001b[0m\u001b[1;33m.\u001b[0m\u001b[0mcluster_centers_\u001b[0m\u001b[1;33m\u001b[0m\u001b[1;33m\u001b[0m\u001b[0m\n",
      "\u001b[1;32m~\\anaconda3\\lib\\site-packages\\sklearn\\cluster\\_kmeans.py\u001b[0m in \u001b[0;36mfit\u001b[1;34m(self, X, y, sample_weight)\u001b[0m\n\u001b[0;32m    857\u001b[0m         \u001b[0morder\u001b[0m \u001b[1;33m=\u001b[0m \u001b[1;34m\"C\"\u001b[0m \u001b[1;32mif\u001b[0m \u001b[0mself\u001b[0m\u001b[1;33m.\u001b[0m\u001b[0mcopy_x\u001b[0m \u001b[1;32melse\u001b[0m \u001b[1;32mNone\u001b[0m\u001b[1;33m\u001b[0m\u001b[1;33m\u001b[0m\u001b[0m\n\u001b[0;32m    858\u001b[0m         X = check_array(X, accept_sparse='csr', dtype=[np.float64, np.float32],\n\u001b[1;32m--> 859\u001b[1;33m                         order=order, copy=self.copy_x)\n\u001b[0m\u001b[0;32m    860\u001b[0m         \u001b[1;31m# verify that the number of samples given is larger than k\u001b[0m\u001b[1;33m\u001b[0m\u001b[1;33m\u001b[0m\u001b[1;33m\u001b[0m\u001b[0m\n\u001b[0;32m    861\u001b[0m         \u001b[1;32mif\u001b[0m \u001b[0m_num_samples\u001b[0m\u001b[1;33m(\u001b[0m\u001b[0mX\u001b[0m\u001b[1;33m)\u001b[0m \u001b[1;33m<\u001b[0m \u001b[0mself\u001b[0m\u001b[1;33m.\u001b[0m\u001b[0mn_clusters\u001b[0m\u001b[1;33m:\u001b[0m\u001b[1;33m\u001b[0m\u001b[1;33m\u001b[0m\u001b[0m\n",
      "\u001b[1;32m~\\anaconda3\\lib\\site-packages\\sklearn\\utils\\validation.py\u001b[0m in \u001b[0;36mcheck_array\u001b[1;34m(array, accept_sparse, accept_large_sparse, dtype, order, copy, force_all_finite, ensure_2d, allow_nd, ensure_min_samples, ensure_min_features, warn_on_dtype, estimator)\u001b[0m\n\u001b[0;32m    554\u001b[0m                     \u001b[1;34m\"Reshape your data either using array.reshape(-1, 1) if \"\u001b[0m\u001b[1;33m\u001b[0m\u001b[1;33m\u001b[0m\u001b[0m\n\u001b[0;32m    555\u001b[0m                     \u001b[1;34m\"your data has a single feature or array.reshape(1, -1) \"\u001b[0m\u001b[1;33m\u001b[0m\u001b[1;33m\u001b[0m\u001b[0m\n\u001b[1;32m--> 556\u001b[1;33m                     \"if it contains a single sample.\".format(array))\n\u001b[0m\u001b[0;32m    557\u001b[0m \u001b[1;33m\u001b[0m\u001b[0m\n\u001b[0;32m    558\u001b[0m         \u001b[1;31m# in the future np.flexible dtypes will be handled like object dtypes\u001b[0m\u001b[1;33m\u001b[0m\u001b[1;33m\u001b[0m\u001b[1;33m\u001b[0m\u001b[0m\n",
      "\u001b[1;31mValueError\u001b[0m: Expected 2D array, got 1D array instead:\narray=[31.44555556 42.72       45.47555556 30.29625    35.285      24.215\n 32.665      28.745      39.76       34.1625     33.36       43.44\n 51.61       54.33375    60.46       27.75444444 33.79       32.93\n 51.27       42.82       37.57928571 54.81571429 49.01888889 31.84\n 26.41375    31.54166667 44.63       28.155      48.41777778 50.09555556\n 32.5275     34.625      33.17       27.72375    32.25571429 42.18\n 34.4325     40.89444444 42.77       35.00125    55.80555556 32.00857143\n 29.55545455 34.90842105 32.41875    41.94       34.918      39.24\n 28.78       34.12625    32.11       48.51       31.03555556 34.465\n 30.07571429 28.42222222 37.265      38.6        36.48       54.18\n 35.12       31.95       36.33454545 40.72       32.67444444 40.72\n 35.985      34.1325     35.69       35.745      48.97444444 46.155\n 45.58       37.72666667 42.97       45.79666667 29.27125    27.3075\n 32.84       52.66444444 48.1        44.768      31.196      33.58882353\n 36.63       50.96666667 32.054375   29.72714286 41.24       51.27333333\n 26.95       24.67875    27.05615385 33.99       39.755      44.82333333\n 43.32       44.115      39.44875    30.9725     36.77       39.76333333\n 39.03       26.27111111 42.71666667 41.09       45.01444444 39.2425\n 63.72666667 55.12       43.15      ].\nReshape your data either using array.reshape(-1, 1) if your data has a single feature or array.reshape(1, -1) if it contains a single sample."
     ]
    },
    {
     "data": {
      "image/png": "[encoded data removed]",
      "text/plain": [
       "<Figure size 432x288 with 1 Axes>"
      ]
     },
     "metadata": {
      "needs_background": "light"
     },
     "output_type": "display_data"
    }
   ],
   "source": [
    "import pandas as pd\n",
    "\n",
    "data = pd.read_csv('happiness by income.csv')\n",
    "\n",
    "happy = data['happyScore']\n",
    "income = data['avg_income']\n",
    "ineq = data['income_inequality']\n",
    "\n",
    "import matplotlib.pyplot as plt\n",
    "\n",
    "plt.scatter(ineq, happy)\n",
    "\n",
    "from sklearn.cluster import KMeans\n",
    "import numpy as np\n",
    "\n",
    "ineq_happy = np.column_stack((ineq, happy))\n",
    "\n",
    "km_res = KMeans(n_clusters=5).fit(ineq, happy)\n",
    "\n",
    "clusters = km_res.cluster_centers_\n",
    "\n",
    "plt.scatter(ineq, happy)\n",
    "plt.scatter(clusters[:,0], clusters[:,1], s=1000)"
   ]
  },
  {
   "cell_type": "code",
   "execution_count": 60,
   "metadata": {},
   "outputs": [
    {
     "data": {
      "text/plain": [
       "<matplotlib.collections.PathCollection at 0x1cfebadfc08>"
      ]
     },
     "execution_count": 60,
     "metadata": {},
     "output_type": "execute_result"
    },
    {
     "data": {
      "image/png": "[encoded data removed]",
      "text/plain": [
       "<Figure size 432x288 with 1 Axes>"
      ]
     },
     "metadata": {
      "needs_background": "light"
     },
     "output_type": "display_data"
    }
   ],
   "source": [
    "import matplotlib.pyplot as plt\n",
    "\n",
    "plt.xlabel('income')\n",
    "plt.ylabel('happy')\n",
    "plt.scatter(income, happy, s = ineq*20, alpha=.15)"
   ]
  },
  {
   "cell_type": "code",
   "execution_count": 62,
   "metadata": {},
   "outputs": [
    {
     "name": "stdout",
     "output_type": "stream",
     "text": [
      "[[31.44555556  4.35      ]\n",
      " [42.72        4.033     ]\n",
      " [45.47555556  6.574     ]\n",
      " [30.29625     7.2       ]\n",
      " [35.285       7.284     ]\n",
      " [24.215       5.212     ]\n",
      " [32.665       4.694     ]\n",
      " [28.745       6.937     ]\n",
      " [39.76        3.587     ]\n",
      " [34.1625      4.218     ]\n",
      " [33.36        2.905     ]\n",
      " [43.44        3.34      ]\n",
      " [51.61        5.89      ]\n",
      " [54.33375     6.983     ]\n",
      " [60.46        4.332     ]\n",
      " [27.75444444  5.813     ]\n",
      " [33.79        7.427     ]\n",
      " [32.93        7.587     ]\n",
      " [51.27        6.67      ]\n",
      " [42.82        4.252     ]\n",
      " [37.57928571  5.14      ]\n",
      " [54.81571429  6.477     ]\n",
      " [49.01888889  7.226     ]\n",
      " [31.84        5.689     ]\n",
      " [26.41375     6.505     ]\n",
      " [31.54166667  6.75      ]\n",
      " [44.63        4.369     ]\n",
      " [28.155       7.527     ]\n",
      " [48.41777778  4.885     ]\n",
      " [50.09555556  5.975     ]\n",
      " [32.5275      5.429     ]\n",
      " [34.625       6.329     ]\n",
      " [33.17        4.512     ]\n",
      " [27.72375     7.406     ]\n",
      " [32.25571429  6.575     ]\n",
      " [42.18        3.896     ]\n",
      " [34.4325      6.867     ]\n",
      " [40.89444444  4.297     ]\n",
      " [42.77        4.633     ]\n",
      " [35.00125     4.857     ]\n",
      " [55.80555556  4.788     ]\n",
      " [32.00857143  5.759     ]\n",
      " [29.55545455  4.8       ]\n",
      " [34.90842105  5.399     ]\n",
      " [32.41875     6.94      ]\n",
      " [41.94        7.278     ]\n",
      " [34.918       4.565     ]\n",
      " [39.24        4.686     ]\n",
      " [28.78        7.561     ]\n",
      " [34.12625     5.948     ]\n",
      " [32.11        5.987     ]\n",
      " [48.51        4.419     ]\n",
      " [31.03555556  5.286     ]\n",
      " [34.465       3.819     ]\n",
      " [30.07571429  5.589     ]\n",
      " [28.42222222  5.855     ]\n",
      " [37.265       4.876     ]\n",
      " [38.6         4.271     ]\n",
      " [36.48        4.571     ]\n",
      " [54.18        4.898     ]\n",
      " [35.12        5.833     ]\n",
      " [31.95        6.946     ]\n",
      " [36.33454545  5.098     ]\n",
      " [40.72        5.013     ]\n",
      " [32.67444444  5.889     ]\n",
      " [40.72        3.681     ]\n",
      " [35.985       3.995     ]\n",
      " [34.1325      4.874     ]\n",
      " [35.69        4.436     ]\n",
      " [35.745       5.477     ]\n",
      " [48.97444444  7.187     ]\n",
      " [46.155       5.77      ]\n",
      " [45.58        4.971     ]\n",
      " [37.72666667  3.845     ]\n",
      " [42.97        5.268     ]\n",
      " [45.79666667  5.828     ]\n",
      " [29.27125     7.378     ]\n",
      " [27.3075      7.522     ]\n",
      " [32.84        4.514     ]\n",
      " [52.66444444  6.786     ]\n",
      " [48.1         5.824     ]\n",
      " [44.768       5.073     ]\n",
      " [31.196       5.194     ]\n",
      " [33.58882353  5.791     ]\n",
      " [36.63        5.102     ]\n",
      " [50.96666667  5.878     ]\n",
      " [32.054375    5.124     ]\n",
      " [29.72714286  5.123     ]\n",
      " [41.24        5.716     ]\n",
      " [51.27333333  3.465     ]\n",
      " [26.95        7.364     ]\n",
      " [24.67875     5.848     ]\n",
      " [27.05615385  5.995     ]\n",
      " [33.99        4.507     ]\n",
      " [39.755       3.904     ]\n",
      " [44.82333333  6.13      ]\n",
      " [43.32        3.667     ]\n",
      " [44.115       2.839     ]\n",
      " [39.44875     6.455     ]\n",
      " [30.9725      4.786     ]\n",
      " [36.77        4.739     ]\n",
      " [39.76333333  5.332     ]\n",
      " [39.03        3.781     ]\n",
      " [26.27111111  4.681     ]\n",
      " [42.71666667  3.931     ]\n",
      " [41.09        7.119     ]\n",
      " [45.01444444  6.485     ]\n",
      " [39.2425      5.36      ]\n",
      " [63.72666667  4.642     ]\n",
      " [55.12        5.129     ]\n",
      " [43.15        4.61      ]]\n"
     ]
    }
   ],
   "source": [
    "from sklearn.cluster import KMeans\n",
    "import numpy as np\n",
    "\n",
    "ineq_happy = np.column_stack((ineq, happy))\n",
    "print(ineq_happy)"
   ]
  },
  {
   "cell_type": "code",
   "execution_count": 66,
   "metadata": {},
   "outputs": [
    {
     "data": {
      "text/html": [
       "<div>\n",
       "<style scoped>\n",
       "    .dataframe tbody tr th:only-of-type {\n",
       "        vertical-align: middle;\n",
       "    }\n",
       "\n",
       "    .dataframe tbody tr th {\n",
       "        vertical-align: top;\n",
       "    }\n",
       "\n",
       "    .dataframe thead th {\n",
       "        text-align: right;\n",
       "    }\n",
       "</style>\n",
       "<table border=\"1\" class=\"dataframe\">\n",
       "  <thead>\n",
       "    <tr style=\"text-align: right;\">\n",
       "      <th></th>\n",
       "      <th>country</th>\n",
       "      <th>adjusted_satisfaction</th>\n",
       "      <th>avg_satisfaction</th>\n",
       "      <th>std_satisfaction</th>\n",
       "      <th>avg_income</th>\n",
       "      <th>median_income</th>\n",
       "      <th>income_inequality</th>\n",
       "      <th>region</th>\n",
       "      <th>happyScore</th>\n",
       "      <th>GDP</th>\n",
       "      <th>country.1</th>\n",
       "    </tr>\n",
       "  </thead>\n",
       "  <tbody>\n",
       "    <tr>\n",
       "      <th>5</th>\n",
       "      <td>Azerbaijan</td>\n",
       "      <td>46</td>\n",
       "      <td>5.8</td>\n",
       "      <td>2.27</td>\n",
       "      <td>3381.600000</td>\n",
       "      <td>2931.480000</td>\n",
       "      <td>24.215000</td>\n",
       "      <td>'Central and Eastern Europe'</td>\n",
       "      <td>5.212</td>\n",
       "      <td>1.02389</td>\n",
       "      <td>Azerbaijan</td>\n",
       "    </tr>\n",
       "    <tr>\n",
       "      <th>91</th>\n",
       "      <td>Slovenia</td>\n",
       "      <td>57</td>\n",
       "      <td>7.0</td>\n",
       "      <td>2.14</td>\n",
       "      <td>12174.765000</td>\n",
       "      <td>11071.995000</td>\n",
       "      <td>24.678750</td>\n",
       "      <td>'Central and Eastern Europe'</td>\n",
       "      <td>5.848</td>\n",
       "      <td>1.18498</td>\n",
       "      <td>Slovenia</td>\n",
       "    </tr>\n",
       "    <tr>\n",
       "      <th>103</th>\n",
       "      <td>Ukraine</td>\n",
       "      <td>39</td>\n",
       "      <td>5.1</td>\n",
       "      <td>2.44</td>\n",
       "      <td>4129.680000</td>\n",
       "      <td>3643.520000</td>\n",
       "      <td>26.271111</td>\n",
       "      <td>'Central and Eastern Europe'</td>\n",
       "      <td>4.681</td>\n",
       "      <td>0.79907</td>\n",
       "      <td>Ukraine</td>\n",
       "    </tr>\n",
       "    <tr>\n",
       "      <th>24</th>\n",
       "      <td>Czech Republic</td>\n",
       "      <td>54</td>\n",
       "      <td>6.6</td>\n",
       "      <td>2.13</td>\n",
       "      <td>9430.905000</td>\n",
       "      <td>8363.370000</td>\n",
       "      <td>26.413750</td>\n",
       "      <td>'Central and Eastern Europe'</td>\n",
       "      <td>6.505</td>\n",
       "      <td>1.17898</td>\n",
       "      <td>Czech Republic</td>\n",
       "    </tr>\n",
       "    <tr>\n",
       "      <th>90</th>\n",
       "      <td>Sweden</td>\n",
       "      <td>67</td>\n",
       "      <td>7.8</td>\n",
       "      <td>1.72</td>\n",
       "      <td>17032.755000</td>\n",
       "      <td>15166.605000</td>\n",
       "      <td>26.950000</td>\n",
       "      <td>'Western Europe'</td>\n",
       "      <td>7.364</td>\n",
       "      <td>1.33171</td>\n",
       "      <td>Sweden</td>\n",
       "    </tr>\n",
       "    <tr>\n",
       "      <th>...</th>\n",
       "      <td>...</td>\n",
       "      <td>...</td>\n",
       "      <td>...</td>\n",
       "      <td>...</td>\n",
       "      <td>...</td>\n",
       "      <td>...</td>\n",
       "      <td>...</td>\n",
       "      <td>...</td>\n",
       "      <td>...</td>\n",
       "      <td>...</td>\n",
       "      <td>...</td>\n",
       "    </tr>\n",
       "    <tr>\n",
       "      <th>21</th>\n",
       "      <td>Colombia</td>\n",
       "      <td>65</td>\n",
       "      <td>7.9</td>\n",
       "      <td>2.09</td>\n",
       "      <td>4618.062857</td>\n",
       "      <td>2618.674286</td>\n",
       "      <td>54.815714</td>\n",
       "      <td>'Latin America and Caribbean'</td>\n",
       "      <td>6.477</td>\n",
       "      <td>0.91861</td>\n",
       "      <td>Colombia</td>\n",
       "    </tr>\n",
       "    <tr>\n",
       "      <th>109</th>\n",
       "      <td>Zambia</td>\n",
       "      <td>37</td>\n",
       "      <td>5.0</td>\n",
       "      <td>2.61</td>\n",
       "      <td>956.760000</td>\n",
       "      <td>510.060000</td>\n",
       "      <td>55.120000</td>\n",
       "      <td>'Sub-Saharan Africa'</td>\n",
       "      <td>5.129</td>\n",
       "      <td>0.47038</td>\n",
       "      <td>Zambia</td>\n",
       "    </tr>\n",
       "    <tr>\n",
       "      <th>40</th>\n",
       "      <td>Honduras</td>\n",
       "      <td>55</td>\n",
       "      <td>7.0</td>\n",
       "      <td>2.46</td>\n",
       "      <td>3080.440000</td>\n",
       "      <td>1757.840000</td>\n",
       "      <td>55.805556</td>\n",
       "      <td>'Latin America and Caribbean'</td>\n",
       "      <td>4.788</td>\n",
       "      <td>0.59532</td>\n",
       "      <td>Honduras</td>\n",
       "    </tr>\n",
       "    <tr>\n",
       "      <th>14</th>\n",
       "      <td>Botswana</td>\n",
       "      <td>36</td>\n",
       "      <td>4.7</td>\n",
       "      <td>2.42</td>\n",
       "      <td>3484.680000</td>\n",
       "      <td>1632.600000</td>\n",
       "      <td>60.460000</td>\n",
       "      <td>'Sub-Saharan Africa'</td>\n",
       "      <td>4.332</td>\n",
       "      <td>0.99355</td>\n",
       "      <td>Botswana</td>\n",
       "    </tr>\n",
       "    <tr>\n",
       "      <th>108</th>\n",
       "      <td>South Africa</td>\n",
       "      <td>49</td>\n",
       "      <td>6.3</td>\n",
       "      <td>2.47</td>\n",
       "      <td>3889.320000</td>\n",
       "      <td>1506.400000</td>\n",
       "      <td>63.726667</td>\n",
       "      <td>'Sub-Saharan Africa'</td>\n",
       "      <td>4.642</td>\n",
       "      <td>0.92049</td>\n",
       "      <td>South Africa</td>\n",
       "    </tr>\n",
       "  </tbody>\n",
       "</table>\n",
       "<p>111 rows × 11 columns</p>\n",
       "</div>"
      ],
      "text/plain": [
       "            country  adjusted_satisfaction  avg_satisfaction  \\\n",
       "5        Azerbaijan                     46               5.8   \n",
       "91         Slovenia                     57               7.0   \n",
       "103         Ukraine                     39               5.1   \n",
       "24   Czech Republic                     54               6.6   \n",
       "90           Sweden                     67               7.8   \n",
       "..              ...                    ...               ...   \n",
       "21         Colombia                     65               7.9   \n",
       "109          Zambia                     37               5.0   \n",
       "40         Honduras                     55               7.0   \n",
       "14         Botswana                     36               4.7   \n",
       "108    South Africa                     49               6.3   \n",
       "\n",
       "     std_satisfaction    avg_income  median_income  income_inequality  \\\n",
       "5                2.27   3381.600000    2931.480000          24.215000   \n",
       "91               2.14  12174.765000   11071.995000          24.678750   \n",
       "103              2.44   4129.680000    3643.520000          26.271111   \n",
       "24               2.13   9430.905000    8363.370000          26.413750   \n",
       "90               1.72  17032.755000   15166.605000          26.950000   \n",
       "..                ...           ...            ...                ...   \n",
       "21               2.09   4618.062857    2618.674286          54.815714   \n",
       "109              2.61    956.760000     510.060000          55.120000   \n",
       "40               2.46   3080.440000    1757.840000          55.805556   \n",
       "14               2.42   3484.680000    1632.600000          60.460000   \n",
       "108              2.47   3889.320000    1506.400000          63.726667   \n",
       "\n",
       "                            region  happyScore      GDP       country.1  \n",
       "5     'Central and Eastern Europe'       5.212  1.02389      Azerbaijan  \n",
       "91    'Central and Eastern Europe'       5.848  1.18498        Slovenia  \n",
       "103   'Central and Eastern Europe'       4.681  0.79907         Ukraine  \n",
       "24    'Central and Eastern Europe'       6.505  1.17898  Czech Republic  \n",
       "90                'Western Europe'       7.364  1.33171          Sweden  \n",
       "..                             ...         ...      ...             ...  \n",
       "21   'Latin America and Caribbean'       6.477  0.91861        Colombia  \n",
       "109           'Sub-Saharan Africa'       5.129  0.47038          Zambia  \n",
       "40   'Latin America and Caribbean'       4.788  0.59532        Honduras  \n",
       "14            'Sub-Saharan Africa'       4.332  0.99355        Botswana  \n",
       "108           'Sub-Saharan Africa'       4.642  0.92049    South Africa  \n",
       "\n",
       "[111 rows x 11 columns]"
      ]
     },
     "execution_count": 66,
     "metadata": {},
     "output_type": "execute_result"
    }
   ],
   "source": [
    "data.sort_values('income_inequality', inplace=True)\n",
    "\n",
    "data\n"
   ]
  },
  {
   "cell_type": "code",
   "execution_count": 67,
   "metadata": {},
   "outputs": [
    {
     "name": "stdout",
     "output_type": "stream",
     "text": [
      "[[31.44555556  4.35      ]\n",
      " [42.72        4.033     ]\n",
      " [45.47555556  6.574     ]\n",
      " [30.29625     7.2       ]\n",
      " [35.285       7.284     ]\n",
      " [24.215       5.212     ]\n",
      " [32.665       4.694     ]\n",
      " [28.745       6.937     ]\n",
      " [39.76        3.587     ]\n",
      " [34.1625      4.218     ]\n",
      " [33.36        2.905     ]\n",
      " [43.44        3.34      ]\n",
      " [51.61        5.89      ]\n",
      " [54.33375     6.983     ]\n",
      " [60.46        4.332     ]\n",
      " [27.75444444  5.813     ]\n",
      " [33.79        7.427     ]\n",
      " [32.93        7.587     ]\n",
      " [51.27        6.67      ]\n",
      " [42.82        4.252     ]\n",
      " [37.57928571  5.14      ]\n",
      " [54.81571429  6.477     ]\n",
      " [49.01888889  7.226     ]\n",
      " [31.84        5.689     ]\n",
      " [26.41375     6.505     ]\n",
      " [31.54166667  6.75      ]\n",
      " [44.63        4.369     ]\n",
      " [28.155       7.527     ]\n",
      " [48.41777778  4.885     ]\n",
      " [50.09555556  5.975     ]\n",
      " [32.5275      5.429     ]\n",
      " [34.625       6.329     ]\n",
      " [33.17        4.512     ]\n",
      " [27.72375     7.406     ]\n",
      " [32.25571429  6.575     ]\n",
      " [42.18        3.896     ]\n",
      " [34.4325      6.867     ]\n",
      " [40.89444444  4.297     ]\n",
      " [42.77        4.633     ]\n",
      " [35.00125     4.857     ]\n",
      " [55.80555556  4.788     ]\n",
      " [32.00857143  5.759     ]\n",
      " [29.55545455  4.8       ]\n",
      " [34.90842105  5.399     ]\n",
      " [32.41875     6.94      ]\n",
      " [41.94        7.278     ]\n",
      " [34.918       4.565     ]\n",
      " [39.24        4.686     ]\n",
      " [28.78        7.561     ]\n",
      " [34.12625     5.948     ]\n",
      " [32.11        5.987     ]\n",
      " [48.51        4.419     ]\n",
      " [31.03555556  5.286     ]\n",
      " [34.465       3.819     ]\n",
      " [30.07571429  5.589     ]\n",
      " [28.42222222  5.855     ]\n",
      " [37.265       4.876     ]\n",
      " [38.6         4.271     ]\n",
      " [36.48        4.571     ]\n",
      " [54.18        4.898     ]\n",
      " [35.12        5.833     ]\n",
      " [31.95        6.946     ]\n",
      " [36.33454545  5.098     ]\n",
      " [40.72        5.013     ]\n",
      " [32.67444444  5.889     ]\n",
      " [40.72        3.681     ]\n",
      " [35.985       3.995     ]\n",
      " [34.1325      4.874     ]\n",
      " [35.69        4.436     ]\n",
      " [35.745       5.477     ]\n",
      " [48.97444444  7.187     ]\n",
      " [46.155       5.77      ]\n",
      " [45.58        4.971     ]\n",
      " [37.72666667  3.845     ]\n",
      " [42.97        5.268     ]\n",
      " [45.79666667  5.828     ]\n",
      " [29.27125     7.378     ]\n",
      " [27.3075      7.522     ]\n",
      " [32.84        4.514     ]\n",
      " [52.66444444  6.786     ]\n",
      " [48.1         5.824     ]\n",
      " [44.768       5.073     ]\n",
      " [31.196       5.194     ]\n",
      " [33.58882353  5.791     ]\n",
      " [36.63        5.102     ]\n",
      " [50.96666667  5.878     ]\n",
      " [32.054375    5.124     ]\n",
      " [29.72714286  5.123     ]\n",
      " [41.24        5.716     ]\n",
      " [51.27333333  3.465     ]\n",
      " [26.95        7.364     ]\n",
      " [24.67875     5.848     ]\n",
      " [27.05615385  5.995     ]\n",
      " [33.99        4.507     ]\n",
      " [39.755       3.904     ]\n",
      " [44.82333333  6.13      ]\n",
      " [43.32        3.667     ]\n",
      " [44.115       2.839     ]\n",
      " [39.44875     6.455     ]\n",
      " [30.9725      4.786     ]\n",
      " [36.77        4.739     ]\n",
      " [39.76333333  5.332     ]\n",
      " [39.03        3.781     ]\n",
      " [26.27111111  4.681     ]\n",
      " [42.71666667  3.931     ]\n",
      " [41.09        7.119     ]\n",
      " [45.01444444  6.485     ]\n",
      " [39.2425      5.36      ]\n",
      " [63.72666667  4.642     ]\n",
      " [55.12        5.129     ]\n",
      " [43.15        4.61      ]]\n"
     ]
    }
   ],
   "source": [
    "from sklearn.cluster import KMeans\n",
    "import numpy as np\n",
    "\n",
    "ineq_happy = np.column_stack((ineq, happy))\n",
    "print(ineq_happy)"
   ]
  },
  {
   "cell_type": "code",
   "execution_count": null,
   "metadata": {},
   "outputs": [],
   "source": []
  }
 ],
 "metadata": {
  "kernelspec": {
   "display_name": "Python 3",
   "language": "python",
   "name": "python3"
  },
  "language_info": {
   "codemirror_mode": {
    "name": "ipython",
    "version": 3
   },
   "file_extension": ".py",
   "mimetype": "text/x-python",
   "name": "python",
   "nbconvert_exporter": "python",
   "pygments_lexer": "ipython3",
   "version": "3.7.6"
  }
 },
 "nbformat": 4,
 "nbformat_minor": 4
}
